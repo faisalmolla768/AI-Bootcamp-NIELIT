{
  "nbformat": 4,
  "nbformat_minor": 0,
  "metadata": {
    "colab": {
      "provenance": []
    },
    "kernelspec": {
      "name": "python3",
      "display_name": "Python 3"
    },
    "language_info": {
      "name": "python"
    }
  },
  "cells": [
    {
      "cell_type": "code",
      "execution_count": 1,
      "metadata": {
        "id": "C2CGYDvvxFH8",
        "colab": {
          "base_uri": "https://localhost:8080/"
        },
        "outputId": "e05f62db-c3a5-4dd4-df28-bdc414e8495d"
      },
      "outputs": [
        {
          "output_type": "stream",
          "name": "stdout",
          "text": [
            "10\n"
          ]
        }
      ],
      "source": [
        "a = 6\n",
        "b = 4\n",
        "c = a + b\n",
        "print(c)"
      ]
    }
  ]
}